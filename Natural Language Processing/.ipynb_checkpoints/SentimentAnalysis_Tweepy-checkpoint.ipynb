{
 "cells": [
  {
   "cell_type": "markdown",
   "metadata": {},
   "source": [
    "# Sentiment Analysis with TWEEPY"
   ]
  },
  {
   "cell_type": "markdown",
   "metadata": {},
   "source": [
    "## Modules required\n",
    "* Tweepy\n",
    "* TextBlob"
   ]
  },
  {
   "cell_type": "code",
   "execution_count": 27,
   "metadata": {},
   "outputs": [],
   "source": [
    "import sys, tweepy\n",
    "from textblob import TextBlob\n",
    "import matplotlib.pyplot as plt\n",
    "import json"
   ]
  },
  {
   "cell_type": "code",
   "execution_count": 28,
   "metadata": {},
   "outputs": [
    {
     "name": "stdout",
     "output_type": "stream",
     "text": [
      "Developer not allowing to use his credentials.\n",
      " Please goto developer.twitter.com and    create an application.\n",
      " And setup below variables\n",
      "    1. CONSUMER_KEY = \"\"\n",
      "    2. CONSUMER_SECRET = \"\"\n",
      "    3. ACCESS_KEY = \"\"\n",
      "    4. ACCESS_SECRET = \"\"\n",
      "          \n"
     ]
    }
   ],
   "source": [
    "# Credentials \n",
    "json_file = '/Users/pruthvivikram/Documents/GitHub/keys.json'\n",
    "\n",
    "try:\n",
    "    open(json_file, 'r')\n",
    "    # Read json file and load key for twitter\n",
    "    with open(json_file, 'r') as f:\n",
    "        auth_data = json.load(f)\n",
    "    # Twitter Credentials\n",
    "    CONSUMER_KEY = auth_data['twitter']['CONSUMER_KEY']\n",
    "    CONSUMER_SECRET = auth_data['twitter']['CONSUMER_SECRET']\n",
    "    ACCESS_KEY = auth_data['twitter']['ACCESS_KEY']\n",
    "    ACCESS_SECRET = auth_data['twitter']['ACCESS_SECRET']\n",
    "except:\n",
    "    print(\"Developer not allowing to use his credentials.\\n Please goto developer.twitter.com and\\\n",
    "    create an application.\\n And setup below variables\\n\\\n",
    "    1. CONSUMER_KEY = \\\"\\\"\\n\\\n",
    "    2. CONSUMER_SECRET = \\\"\\\"\\n\\\n",
    "    3. ACCESS_KEY = \\\"\\\"\\n\\\n",
    "    4. ACCESS_SECRET = \\\"\\\"\\n\\\n",
    "          \")"
   ]
  },
  {
   "cell_type": "code",
   "execution_count": 29,
   "metadata": {},
   "outputs": [],
   "source": [
    "# API Authentication\n",
    "auth = tweepy.OAuthHandler(CONSUMER_KEY, CONSUMER_SECRET)\n",
    "auth.set_access_token(ACCESS_KEY, ACCESS_SECRET)\n",
    "api = tweepy.API(auth)"
   ]
  },
  {
   "cell_type": "code",
   "execution_count": 30,
   "metadata": {},
   "outputs": [],
   "source": [
    "TERM = 'game of thrones'\n",
    "num = 800"
   ]
  },
  {
   "cell_type": "code",
   "execution_count": 31,
   "metadata": {},
   "outputs": [],
   "source": [
    "def percentage_calc(per, whole):\n",
    "    return 100 * float(per)/float(whole)"
   ]
  },
  {
   "cell_type": "code",
   "execution_count": null,
   "metadata": {},
   "outputs": [],
   "source": [
    "positive = 0.0\n",
    "negative = 0.0\n",
    "neutral = 0.0\n",
    "polarity = 0.0\n",
    "\n",
    "tweets = tweepy.Cursor(api.search,q=TERM,lang=\"en\").items(num)\n",
    "x = ''\n",
    "for tweet in tweets:\n",
    "    x += \"\\n-----------------------------\\n\\n\" + tweet.text + \"\\t -> \" + str(TextBlob(tweet.text).sentiment.polarity)\n",
    "    analysis = TextBlob(tweet.text)\n",
    "    polarity += analysis.sentiment.polarity\n",
    "    \n",
    "    if analysis.sentiment.polarity == 0:\n",
    "        neutral += 1\n",
    "    elif analysis.sentiment.polarity < 0:\n",
    "        negative += 1\n",
    "    elif analysis.sentiment.polarity > 0:\n",
    "        positive += 1\n",
    "\n",
    "positivep = percentage_calc(positive, num)\n",
    "negativep = percentage_calc(negative, num)\n",
    "neutralp = percentage_calc(neutral, num)"
   ]
  },
  {
   "cell_type": "code",
   "execution_count": null,
   "metadata": {},
   "outputs": [],
   "source": [
    "# Pie chart\n",
    "fig = plt.figure(figsize=[5, 5])\n",
    "labels=[\"Positive: \"+str(positivep)+\" %\",\n",
    "        \"Negative: \"+str(negativep)+\" %\",\n",
    "        \"Neutral: \"+str(neutralp)+\" %\",]\n",
    "plt.pie((positive, negative, neutral), labels=labels, autopct='%.0f%%', shadow=True,\n",
    "              explode=(0.05, 0.05, 0.05))\n",
    "plt.title('Sentiment analysis of tweets about '+ TERM)\n",
    "plt.legend()\n",
    "plt.show()"
   ]
  },
  {
   "cell_type": "code",
   "execution_count": null,
   "metadata": {},
   "outputs": [],
   "source": []
  },
  {
   "cell_type": "code",
   "execution_count": null,
   "metadata": {},
   "outputs": [],
   "source": []
  }
 ],
 "metadata": {
  "kernelspec": {
   "display_name": "Python 3",
   "language": "python",
   "name": "python3"
  },
  "language_info": {
   "codemirror_mode": {
    "name": "ipython",
    "version": 3
   },
   "file_extension": ".py",
   "mimetype": "text/x-python",
   "name": "python",
   "nbconvert_exporter": "python",
   "pygments_lexer": "ipython3",
   "version": "3.6.6"
  }
 },
 "nbformat": 4,
 "nbformat_minor": 2
}
