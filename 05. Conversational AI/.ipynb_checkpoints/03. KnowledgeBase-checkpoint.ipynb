{
 "cells": [
  {
   "cell_type": "markdown",
   "metadata": {},
   "source": [
    "# Dealing with Semantic Ambiguity problem.\n",
    "* use the google knowledge base\n",
    "* Get ranking for each entity\n",
    "* Create api and make a RESTful API call and get the entities with their rankings"
   ]
  },
  {
   "cell_type": "code",
   "execution_count": 12,
   "metadata": {},
   "outputs": [],
   "source": [
    "# Required libraries\n",
    "import json\n",
    "import urllib"
   ]
  },
  {
   "cell_type": "code",
   "execution_count": 10,
   "metadata": {},
   "outputs": [],
   "source": [
    "api_key = open('.api_key').read()\n",
    "query = 'JFK'\n",
    "service_url = 'https://kgsearch.googleapis.com/v1/entities:search'\n",
    "params = {\n",
    "    'query': query,\n",
    "    'limit': 10,\n",
    "    'indent': True,\n",
    "    'key': api_key,\n",
    "}\n",
    "url = service_url + '?' + urllib.urlencode(params)\n",
    "response = json.loads(urllib.urlopen(url).read())\n",
    "for element in response['itemListElement']:\n",
    "  print element['result']['name'] + ' (' + str(element['resultScore']) + ')'"
   ]
  },
  {
   "cell_type": "code",
   "execution_count": null,
   "metadata": {},
   "outputs": [],
   "source": []
  }
 ],
 "metadata": {
  "kernelspec": {
   "display_name": "Python 3",
   "language": "python",
   "name": "python3"
  },
  "language_info": {
   "codemirror_mode": {
    "name": "ipython",
    "version": 3
   },
   "file_extension": ".py",
   "mimetype": "text/x-python",
   "name": "python",
   "nbconvert_exporter": "python",
   "pygments_lexer": "ipython3",
   "version": "3.6.6"
  }
 },
 "nbformat": 4,
 "nbformat_minor": 2
}
