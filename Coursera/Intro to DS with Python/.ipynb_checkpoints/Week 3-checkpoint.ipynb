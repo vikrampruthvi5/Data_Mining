{
 "cells": [
  {
   "cell_type": "markdown",
   "metadata": {},
   "source": [
    "# Week 3\n",
    "In this week you'll deepen your understanding of the python pandas library by learning how to merge DataFrames, generate summary tables, group data into logical pieces, and manipulate dates. We'll also refresh your understanding of scales of data, and discuss issues with creating metrics for analysis. The week ends with a more significant programming assignment.\n",
    "\n",
    "### Learning Objectives\n",
    "* Apply merge and join on DataFrames\n",
    "* Employ slicing and indexing on DataFrames\n",
    "* Analyze data with groupby and understand categorical variables\n",
    "* Produce the entire process of data source to elucidation\n",
    "* Examine the data by manipulating, cutting, and applying aggregate functions to DataFrames"
   ]
  },
  {
   "cell_type": "code",
   "execution_count": 63,
   "metadata": {},
   "outputs": [
    {
     "data": {
      "text/html": [
       "<div>\n",
       "<style scoped>\n",
       "    .dataframe tbody tr th:only-of-type {\n",
       "        vertical-align: middle;\n",
       "    }\n",
       "\n",
       "    .dataframe tbody tr th {\n",
       "        vertical-align: top;\n",
       "    }\n",
       "\n",
       "    .dataframe thead th {\n",
       "        text-align: right;\n",
       "    }\n",
       "</style>\n",
       "<table border=\"1\" class=\"dataframe\">\n",
       "  <thead>\n",
       "    <tr style=\"text-align: right;\">\n",
       "      <th></th>\n",
       "      <th>Product</th>\n",
       "      <th>Quantity</th>\n",
       "      <th>Price</th>\n",
       "      <th>Old_Price</th>\n",
       "    </tr>\n",
       "  </thead>\n",
       "  <tbody>\n",
       "    <tr>\n",
       "      <th>0</th>\n",
       "      <td>Book</td>\n",
       "      <td>1</td>\n",
       "      <td>12</td>\n",
       "      <td>13</td>\n",
       "    </tr>\n",
       "    <tr>\n",
       "      <th>2</th>\n",
       "      <td>Eraser</td>\n",
       "      <td>3</td>\n",
       "      <td>0</td>\n",
       "      <td>40</td>\n",
       "    </tr>\n",
       "    <tr>\n",
       "      <th>4</th>\n",
       "      <td>Sketch</td>\n",
       "      <td>1</td>\n",
       "      <td>20</td>\n",
       "      <td>0</td>\n",
       "    </tr>\n",
       "  </tbody>\n",
       "</table>\n",
       "</div>"
      ],
      "text/plain": [
       "  Product  Quantity  Price  Old_Price\n",
       "0    Book         1     12         13\n",
       "2  Eraser         3      0         40\n",
       "4  Sketch         1     20          0"
      ]
     },
     "execution_count": 63,
     "metadata": {},
     "output_type": "execute_result"
    }
   ],
   "source": [
    "# IDIOMS of PANDAS\n",
    "\n",
    "import pandas as pd\n",
    "import numpy as np\n",
    "\n",
    "df = pd.DataFrame()\n",
    "\n",
    "df['Product'] = pd.Series(['Book', 'Pencil', 'Eraser', 'Work book', 'Sketch'])\n",
    "df['Quantity'] = pd.Series([1, 0, 3, 0, 1])\n",
    "df['Price'] = pd.Series([12, 20, 0, 0, 20])\n",
    "df['Old_Price'] = pd.Series([13, 10, 40, 30, 0])\n",
    "\n",
    "\n",
    "x = df[df['Quantity'] == 0].index\n",
    "\n",
    "df.drop(x, axis=0)\n"
   ]
  },
  {
   "cell_type": "code",
   "execution_count": 64,
   "metadata": {},
   "outputs": [
    {
     "name": "stdout",
     "output_type": "stream",
     "text": [
      "   Quantity Product ID  Price  Old_Price\n",
      "0         0     Pencil     20         10\n",
      "1         3     Eraser      0         40\n",
      "2         0  Work book      0         30\n",
      "  Product  Quantity  Price  Old_Price\n",
      "0    Book         1     12         13\n",
      "2  Eraser         3      0         40\n",
      "4  Sketch         1     20          0\n"
     ]
    }
   ],
   "source": [
    "# Pandorable or Idioms of Pandas\n",
    "# high efficient, readable problem specific solution\n",
    "print((df\n",
    "       .set_index('Quantity')\n",
    "       .drop(labels=1, axis=0)\n",
    "       .rename(columns={'Product':'Product ID'})\n",
    "       .reset_index()\n",
    "))\n",
    "\n",
    "# Above process resets the index values.  Below process preserves the index values.\n",
    "\n",
    "# Target is to remove rows where Quantity = 0 and Rename Column from 'Weight': 'Weight (oz.)'\n",
    "print(df.drop(df[df['Quantity'] == 0].index).rename(columns={'Weight': 'Weight (oz.)'}))\n",
    "\n",
    "# DROP method removes rows by taking index values as input and axis as 0 for rows. This preserves the original index values"
   ]
  },
  {
   "cell_type": "code",
   "execution_count": null,
   "metadata": {},
   "outputs": [],
   "source": [
    "# 2nd Idiom : ApplyMap : method=Dataframe.apply\n",
    "\n",
    "# two methods : apply, applymap\n",
    "# df.apply : for both series and data frames\n",
    "\n",
    "\n",
    "def min_max(row):\n",
    "    data = row[['Product', 'Price', 'Old_Price']]\n",
    "    \n",
    "    return pd.Series({'min' : np.min(data), 'max' : np.max(data)})\n",
    "\n",
    "df.apply(min_max , axis=1)\n",
    "# Every time a row goes as input to the called method. Which means a method is applied on every row/cell of the data frame"
   ]
  },
  {
   "cell_type": "markdown",
   "metadata": {},
   "source": [
    "## Assignment practice\n"
   ]
  },
  {
   "cell_type": "code",
   "execution_count": 12,
   "metadata": {},
   "outputs": [],
   "source": [
    "import numpy as np\n",
    "import pandas as pd"
   ]
  },
  {
   "cell_type": "code",
   "execution_count": 13,
   "metadata": {},
   "outputs": [],
   "source": [
    "def answer_one():\n",
    "    # load energy data\n",
    "    energy = pd.read_excel('Energy Indicators.xls', skiprows=17, skipfooter=38)\n",
    "    energy = energy[['Unnamed: 2', 'Petajoules', 'Gigajoules', '%']]\n",
    "    energy.rename(columns={'Unnamed: 2' : 'Country', 'Petajoules' : 'Energy Supply', 'Gigajoules' : 'Energy Supply per Capita', '%' : '% Renewable'}, inplace=True)\n",
    "    energy.replace(to_replace='...', value=np.nan, inplace=True)\n",
    "    energy.replace({'China, Hong Kong Special Administrative Region':'Hong Kong','United Kingdom of Great Britain and Northern Ireland':'United Kingdom','Republic of Korea':'South Korea','United States of America':'United States','Iran (Islamic Republic of)':'Iran'}, regex=True, inplace=True)\n",
    "    energy.replace(to_replace=['[0-9]*', '\\(.*\\)', ',\\s.*', '\\s$', '^\\s'], value=\"\", regex=True, inplace=True)\n",
    "\n",
    "    energy['Energy Supply'] = energy['Energy Supply']*1000000\n",
    "    \n",
    "    # GDP data\n",
    "    GDP = pd.read_csv('world_bank.csv', skiprows=4)\n",
    "    GDP.rename({\"Korea, Rep.\": \"South Korea\", \"Iran, Islamic Rep.\": \"Iran\", \"Hong Kong SAR, China\": \"Hong Kong\"})\n",
    "    \n",
    "    # cimEn\n",
    "    ScimEn = pd.read_excel('scimagojr-3.xlsx')\n",
    "        \n",
    "    return (energy, GDP, ScimEn)"
   ]
  },
  {
   "cell_type": "code",
   "execution_count": null,
   "metadata": {},
   "outputs": [],
   "source": [
    "energy, GDP, ScimEn = answer_one()\n",
    "\n",
    "# Join the three datasets: GDP, Energy, and ScimEn into a new dataset (using the intersection of country names). \n",
    "# Use only the last 10 years (2006-2015) of GDP data and only the top 15 countries by Scimagojr 'Rank'\n",
    "# (Rank 1 through 15).\n",
    "\n",
    "# The index of this DataFrame should be the name of the country, and the columns should be \n",
    "# ['Rank', 'Documents', 'Citable documents', 'Citations', 'Self-citations', 'Citations per document', 'H index', \n",
    "# 'Energy Supply', 'Energy Supply per Capita', '% Renewable', '2006', '2007', '2008', '2009', '2010', '2011', '2012', \n",
    "# '2013', '2014', '2015'].\n",
    "\n",
    "req_cols = ['Country Name', '2006', '2007', '2008', '2009', '2010', '2011', '2012', '2013', '2014', '2015']\n",
    "GDP = GDP[req_cols]\n",
    "# print(GDP.keys())\n",
    "\n",
    "req_cols = ['Country', 'Rank', 'Documents', 'Citable documents', 'Citations', 'Self-citations', 'Citations per document', 'H index']\n",
    "ScimEn = (ScimEn[req_cols].set_index('Rank')\n",
    "    .head(15)\n",
    ")\n",
    "# print(ScimEn.keys())\n",
    "\n",
    "req_cols = ['Country', 'Energy Supply', 'Energy Supply per Capita', '% Renewable']\n",
    "energy = energy[req_cols]\n",
    "# print(energy.keys())\n",
    "\n",
    "# Joining datasets\n",
    "# pd.merge(left=ScimEn, right=GDP, left_on='Country', right_on='Country Name', how='inner')\n",
    "\n"
   ]
  },
  {
   "cell_type": "code",
   "execution_count": null,
   "metadata": {},
   "outputs": [],
   "source": []
  }
 ],
 "metadata": {
  "kernelspec": {
   "display_name": "Python 3",
   "language": "python",
   "name": "python3"
  },
  "language_info": {
   "codemirror_mode": {
    "name": "ipython",
    "version": 3
   },
   "file_extension": ".py",
   "mimetype": "text/x-python",
   "name": "python",
   "nbconvert_exporter": "python",
   "pygments_lexer": "ipython3",
   "version": "3.6.6"
  }
 },
 "nbformat": 4,
 "nbformat_minor": 2
}
