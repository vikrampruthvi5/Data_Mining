{
 "cells": [
  {
   "cell_type": "markdown",
   "metadata": {},
   "source": [
    "# Learn Numpy\n",
    "* Alternative to python Lists : numpyArray\n",
    "* Fast\n",
    "* Iterates through each value of list and perform operation\n",
    "\n",
    "## Why do we need Numpy instead of Python - List\n",
    "* List cannot perform operations on each values inside the list</br>\n",
    "<font color=red>ex: bmi = weight / height ** 2</font>"
   ]
  },
  {
   "cell_type": "code",
   "execution_count": 1,
   "metadata": {},
   "outputs": [],
   "source": [
    "# Imports\n",
    "import numpy as np\n",
    "from numpy import array"
   ]
  },
  {
   "cell_type": "markdown",
   "metadata": {},
   "source": [
    "### <font color=blue>Creation</font>"
   ]
  },
  {
   "cell_type": "code",
   "execution_count": 2,
   "metadata": {},
   "outputs": [
    {
     "name": "stdout",
     "output_type": "stream",
     "text": [
      "Height type :  <class 'list'>\n",
      "Weight type :  <class 'list'>\n",
      "Height type :  <class 'numpy.ndarray'>\n",
      "Weight type :  <class 'numpy.ndarray'>\n"
     ]
    }
   ],
   "source": [
    "# Create numpy array\n",
    "height = [12.0, 9.8, 16.4]\n",
    "print(\"Height type : \", type(height))\n",
    "\n",
    "weight = [98.6, 89.94, 76.8]\n",
    "print(\"Weight type : \", type(weight))\n",
    "\n",
    "# Creating numpy array\n",
    "np_height = np.array([12.0, 9.8, 16.4])\n",
    "print(\"Height type : \", type(np_height))\n",
    "\n",
    "np_weight = np.array(weight)\n",
    "print(\"Weight type : \", type(np_weight))"
   ]
  },
  {
   "cell_type": "code",
   "execution_count": 65,
   "metadata": {},
   "outputs": [
    {
     "data": {
      "text/plain": [
       "array([0.68472222, 0.9364848 , 0.28554432])"
      ]
     },
     "execution_count": 65,
     "metadata": {},
     "output_type": "execute_result"
    }
   ],
   "source": [
    "# BMI calculation : weight / height ** 2\n",
    "np_bmi = np_weight / np_height ** 2\n",
    "\n",
    "np_bmi"
   ]
  },
  {
   "cell_type": "markdown",
   "metadata": {},
   "source": [
    "### <font color=blue>Addition/Concatination</font>"
   ]
  },
  {
   "cell_type": "code",
   "execution_count": 4,
   "metadata": {},
   "outputs": [
    {
     "name": "stdout",
     "output_type": "stream",
     "text": [
      "[1, 2, 3, 1, 2, 3]\n",
      "[2 4 6]\n"
     ]
    }
   ],
   "source": [
    "x = [1, 2, 3]\n",
    "np_x = np.array(x)\n",
    "\n",
    "# Adding lists\n",
    "print(x + x) # Concats values\n",
    "print(np_x + np_x) # Add values"
   ]
  },
  {
   "cell_type": "markdown",
   "metadata": {},
   "source": [
    "### <font color=blue>Numpy Subsetting</font>"
   ]
  },
  {
   "cell_type": "code",
   "execution_count": 5,
   "metadata": {},
   "outputs": [
    {
     "name": "stdout",
     "output_type": "stream",
     "text": [
      "[ True  True False False]\n",
      "[ True False False False]\n"
     ]
    }
   ],
   "source": [
    "bmi = array([28.3, 54.3, 12.8, 19.99])\n",
    "\n",
    "# apply condition on each values\n",
    "print(bmi > 28)\n",
    "print(bmi == 28.3)\n"
   ]
  },
  {
   "cell_type": "markdown",
   "metadata": {},
   "source": [
    "## <font color=Red>2D Arrays</font>\n",
    "### <font color=blue>Creation</font>"
   ]
  },
  {
   "cell_type": "code",
   "execution_count": 64,
   "metadata": {},
   "outputs": [
    {
     "data": {
      "text/plain": [
       "(4, 2)"
      ]
     },
     "execution_count": 64,
     "metadata": {},
     "output_type": "execute_result"
    }
   ],
   "source": [
    "baseball = np.array([[180, 78.4],\n",
    "            [215, 102.7],\n",
    "            [210, 98.5],\n",
    "            [188, 75.2]])\n",
    "\n",
    "# Multi dimensional array\n",
    "baseball.shape"
   ]
  },
  {
   "cell_type": "markdown",
   "metadata": {},
   "source": [
    "### <font color=blue>Seperation</font>"
   ]
  },
  {
   "cell_type": "code",
   "execution_count": 48,
   "metadata": {},
   "outputs": [
    {
     "name": "stdout",
     "output_type": "stream",
     "text": [
      "Column 1 : [180. 215. 210. 188.]\n",
      "Row 1 : [180.   78.4]\n"
     ]
    }
   ],
   "source": [
    "# Seperate columns or rows\n",
    "bb_column1 = np.array(baseball[:, 0])\n",
    "bb_column2 = np.array(baseball[:, 1])\n",
    "bb_row1 = np.array(baseball[0 , :])\n",
    "bb_row2 = np.array(baseball[1 , :])\n",
    "print(\"Column 1 :\", bb_column1)\n",
    "print(\"Row 1 :\", bb_row1)"
   ]
  },
  {
   "cell_type": "markdown",
   "metadata": {},
   "source": [
    "## <font color=Red>Inbuilt Statistical methods</font>\n",
    "### <font color=blue>Mean</font>"
   ]
  },
  {
   "cell_type": "code",
   "execution_count": 60,
   "metadata": {},
   "outputs": [
    {
     "name": "stdout",
     "output_type": "stream",
     "text": [
      "Mean of col1 :  198.25\n",
      "Mean of row1 :  129.2\n"
     ]
    }
   ],
   "source": [
    "print(\"Mean of col1 : \", np.mean(baseball[:, 0]))\n",
    "print(\"Mean of row1 : \", np.mean(baseball[0, :]))"
   ]
  },
  {
   "cell_type": "markdown",
   "metadata": {},
   "source": [
    "### <font color=blue>Median</font>"
   ]
  },
  {
   "cell_type": "code",
   "execution_count": 61,
   "metadata": {},
   "outputs": [
    {
     "name": "stdout",
     "output_type": "stream",
     "text": [
      "Median of col1 :  199.0\n",
      "Median of row1 :  129.2\n"
     ]
    }
   ],
   "source": [
    "print(\"Median of col1 : \", np.median(baseball[:, 0]))\n",
    "print(\"Median of row1 : \", np.median(baseball[0, :]))"
   ]
  },
  {
   "cell_type": "markdown",
   "metadata": {},
   "source": [
    "### <font color=blue>Correlation Coefficient</font>"
   ]
  },
  {
   "cell_type": "code",
   "execution_count": 62,
   "metadata": {},
   "outputs": [
    {
     "name": "stdout",
     "output_type": "stream",
     "text": [
      "Correlation Coeff : \n",
      " [[1.         0.95865738]\n",
      " [0.95865738 1.        ]]\n"
     ]
    }
   ],
   "source": [
    "print(\"Correlation Coeff : \\n\", np.corrcoef(baseball[:, 0], baseball[:, 1]))"
   ]
  },
  {
   "cell_type": "markdown",
   "metadata": {},
   "source": [
    "### <font color=blue>Standard Deviation</font>"
   ]
  },
  {
   "cell_type": "code",
   "execution_count": 76,
   "metadata": {},
   "outputs": [
    {
     "name": "stdout",
     "output_type": "stream",
     "text": [
      "Standard Deviation :  14.635146053251399\n"
     ]
    }
   ],
   "source": [
    "print(\"Standard Deviation : \", np.std(baseball[:, 0]))"
   ]
  },
  {
   "cell_type": "code",
   "execution_count": 69,
   "metadata": {},
   "outputs": [
    {
     "data": {
      "text/plain": [
       "(3, 3)"
      ]
     },
     "execution_count": 69,
     "metadata": {},
     "output_type": "execute_result"
    }
   ],
   "source": [
    "x = np.array([[11, 12, 13],\n",
    "             [21, 22, 23],\n",
    "             [31, 32, 33]])\n",
    "x.shape"
   ]
  },
  {
   "cell_type": "code",
   "execution_count": 73,
   "metadata": {},
   "outputs": [
    {
     "name": "stdout",
     "output_type": "stream",
     "text": [
      "Row 1 : [11 12 13]\n",
      "col 1 : [11 21 31]\n"
     ]
    }
   ],
   "source": [
    "print(\"Row 1 :\", x[0, :])\n",
    "print(\"col 1 :\", x[:, 0])"
   ]
  },
  {
   "cell_type": "code",
   "execution_count": null,
   "metadata": {},
   "outputs": [],
   "source": []
  }
 ],
 "metadata": {
  "kernelspec": {
   "display_name": "Python 3",
   "language": "python",
   "name": "python3"
  },
  "language_info": {
   "codemirror_mode": {
    "name": "ipython",
    "version": 3
   },
   "file_extension": ".py",
   "mimetype": "text/x-python",
   "name": "python",
   "nbconvert_exporter": "python",
   "pygments_lexer": "ipython3",
   "version": "3.6.6"
  }
 },
 "nbformat": 4,
 "nbformat_minor": 2
}
