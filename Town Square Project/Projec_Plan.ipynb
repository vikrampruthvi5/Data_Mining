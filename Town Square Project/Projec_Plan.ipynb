{
 "cells": [
  {
   "cell_type": "markdown",
   "metadata": {},
   "source": [
    "# Project Plan in short...\n",
    "### Target : Find the biased data set and try to fix the problem  with results.\n",
    "\n",
    "## Example projects that failed or succeded.\n",
    "* Amazon AI hiring process which failed miserably becuase of being biased.\n",
    "* Recividism identifying tool CORPUS. A study by Northpoint company.\n",
    "\n",
    "## How to identify bias in the dataset?\n",
    "* Take sample datasets and identify if you are able to find the bias in dataset.\n",
    "* IS TITANIC DATASET BIASED\n",
    "\n",
    "## How to prove that the dataset is biased even though the data is identified to be biased?\n",
    "* \n",
    "\n",
    "## V1.0 : Path planning\n",
    "### Sources of DATASETs\n",
    "* Kaggle\n",
    "* ABA projects\n",
    "\n",
    "### Find initial observations\n",
    "* General Insights\n",
    "\n",
    "### Prove that data is biased\n",
    "\n",
    "### Identify list of references\n",
    "\n",
    "### Possible solutions\n",
    "\n",
    "### Solution results\n"
   ]
  },
  {
   "cell_type": "code",
   "execution_count": null,
   "metadata": {},
   "outputs": [],
   "source": []
  }
 ],
 "metadata": {
  "kernelspec": {
   "display_name": "Python 3",
   "language": "python",
   "name": "python3"
  },
  "language_info": {
   "codemirror_mode": {
    "name": "ipython",
    "version": 3
   },
   "file_extension": ".py",
   "mimetype": "text/x-python",
   "name": "python",
   "nbconvert_exporter": "python",
   "pygments_lexer": "ipython3",
   "version": "3.6.6"
  }
 },
 "nbformat": 4,
 "nbformat_minor": 2
}
